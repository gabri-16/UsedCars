{
 "cells": [
  {
   "cell_type": "code",
   "execution_count": 3,
   "metadata": {},
   "outputs": [
    {
     "data": {
      "application/vnd.jupyter.widget-view+json": {
       "model_id": "d5e8bb6a76614f4d9a9a39e3d4587fd0",
       "version_major": 2,
       "version_minor": 0
      },
      "text/plain": [
       "VBox()"
      ]
     },
     "metadata": {},
     "output_type": "display_data"
    },
    {
     "data": {
      "application/vnd.jupyter.widget-view+json": {
       "model_id": "",
       "version_major": 2,
       "version_minor": 0
      },
      "text/plain": [
       "FloatProgress(value=0.0, bar_style='info', description='Progress:', layout=Layout(height='25px', width='50%'),…"
      ]
     },
     "metadata": {},
     "output_type": "display_data"
    },
    {
     "name": "stdout",
     "output_type": "stream",
     "text": [
      "executors: Int = 1\n",
      "corePerExecutor: Int = 2\n",
      "partitions: Int = 8\n",
      "replicationFactor: Int = 100\n"
     ]
    }
   ],
   "source": [
    "// Vars\n",
    "val executors = sc.getConf.getInt(\"spark.executor.instances\", 1)\n",
    "val corePerExecutor = sc.getConf.getInt(\"spark.executor.cores\", 1)\n",
    "val partitions = 4 * executors * corePerExecutor\n",
    "val replicationFactor = 100"
   ]
  },
  {
   "cell_type": "code",
   "execution_count": 4,
   "metadata": {},
   "outputs": [
    {
     "data": {
      "application/vnd.jupyter.widget-view+json": {
       "model_id": "5e518325ee3e4c42b70b0ae49cd44bcd",
       "version_major": 2,
       "version_minor": 0
      },
      "text/plain": [
       "VBox()"
      ]
     },
     "metadata": {},
     "output_type": "display_data"
    },
    {
     "data": {
      "application/vnd.jupyter.widget-view+json": {
       "model_id": "",
       "version_major": 2,
       "version_minor": 0
      },
      "text/plain": [
       "FloatProgress(value=0.0, bar_style='info', description='Progress:', layout=Layout(height='25px', width='50%'),…"
      ]
     },
     "metadata": {},
     "output_type": "display_data"
    },
    {
     "name": "stdout",
     "output_type": "stream",
     "text": [
      "sqlContext: org.apache.spark.sql.SQLContext = org.apache.spark.sql.SQLContext@7ed718ab\n",
      "table: String = usedcars.gg6_bigdata_used_cars\n",
      "rawDF: org.apache.spark.sql.DataFrame = [id: bigint, url: string ... 23 more fields]\n"
     ]
    }
   ],
   "source": [
    "// Read DF\n",
    "val sqlContext = spark.sqlContext\n",
    "val table = \"usedcars.gg6_bigdata_used_cars\"\n",
    "val rawDF = sqlContext.sql(\"select * from \" + table)"
   ]
  },
  {
   "cell_type": "code",
   "execution_count": 6,
   "metadata": {},
   "outputs": [
    {
     "data": {
      "application/vnd.jupyter.widget-view+json": {
       "model_id": "b80253fe854042f19f09374e571d1af8",
       "version_major": 2,
       "version_minor": 0
      },
      "text/plain": [
       "VBox()"
      ]
     },
     "metadata": {},
     "output_type": "display_data"
    },
    {
     "data": {
      "application/vnd.jupyter.widget-view+json": {
       "model_id": "",
       "version_major": 2,
       "version_minor": 0
      },
      "text/plain": [
       "FloatProgress(value=0.0, bar_style='info', description='Progress:', layout=Layout(height='25px', width='50%'),…"
      ]
     },
     "metadata": {},
     "output_type": "display_data"
    },
    {
     "name": "stdout",
     "output_type": "stream",
     "text": [
      "cleanDF: org.apache.spark.sql.DataFrame = [region: string, price: bigint ... 3 more fields]\n",
      "import org.apache.spark.sql.functions._\n",
      "preprocessedDF: org.apache.spark.sql.Dataset[org.apache.spark.sql.Row] = [region: string, price: bigint ... 3 more fields]\n",
      "res11: preprocessedDF.type = [region: string, price: bigint ... 3 more fields]\n"
     ]
    }
   ],
   "source": [
    "// 1.Preprocessing\n",
    "val cleanDF = rawDF.select(\"region\", \"price\", \"manufacturer\", \"fuel\", \"odometer\").withColumnRenamed(\"manufacturer\", \"brand\").na.drop\n",
    "\n",
    "import org.apache.spark.sql.functions._\n",
    "val preprocessedDF = cleanDF.withColumn(\"dummy\", explode(array((0 until replicationFactor).map(lit): _*))).selectExpr(cleanDF.columns: _*).repartition(partitions)\n",
    "\n",
    "preprocessedDF.cache"
   ]
  },
  {
   "cell_type": "code",
   "execution_count": 7,
   "metadata": {},
   "outputs": [
    {
     "data": {
      "application/vnd.jupyter.widget-view+json": {
       "model_id": "ad18d563d310474eb16f878eb3b27d70",
       "version_major": 2,
       "version_minor": 0
      },
      "text/plain": [
       "VBox()"
      ]
     },
     "metadata": {},
     "output_type": "display_data"
    },
    {
     "data": {
      "application/vnd.jupyter.widget-view+json": {
       "model_id": "",
       "version_major": 2,
       "version_minor": 0
      },
      "text/plain": [
       "FloatProgress(value=0.0, bar_style='info', description='Progress:', layout=Layout(height='25px', width='50%'),…"
      ]
     },
     "metadata": {},
     "output_type": "display_data"
    },
    {
     "name": "stdout",
     "output_type": "stream",
     "text": [
      "df2a: org.apache.spark.sql.DataFrame = [brand: string, opi: double]\n"
     ]
    }
   ],
   "source": [
    "// 2a.Opi\n",
    "val df2a = preprocessedDF.withColumn(\"opi\", $\"odometer\" / $\"price\").select(\"brand\", \"opi\").groupBy(\"brand\").avg().withColumnRenamed(\"avg(opi)\", \"opi\")"
   ]
  },
  {
   "cell_type": "code",
   "execution_count": 8,
   "metadata": {},
   "outputs": [
    {
     "data": {
      "application/vnd.jupyter.widget-view+json": {
       "model_id": "5309c431d0b44eb48dac4a97eb238ee3",
       "version_major": 2,
       "version_minor": 0
      },
      "text/plain": [
       "VBox()"
      ]
     },
     "metadata": {},
     "output_type": "display_data"
    },
    {
     "data": {
      "application/vnd.jupyter.widget-view+json": {
       "model_id": "",
       "version_major": 2,
       "version_minor": 0
      },
      "text/plain": [
       "FloatProgress(value=0.0, bar_style='info', description='Progress:', layout=Layout(height='25px', width='50%'),…"
      ]
     },
     "metadata": {},
     "output_type": "display_data"
    },
    {
     "name": "stdout",
     "output_type": "stream",
     "text": [
      "brandCount: org.apache.spark.sql.DataFrame = [region: string, brand: string ... 1 more field]\n",
      "res14: brandCount.type = [region: string, brand: string ... 1 more field]\n",
      "brandMax: org.apache.spark.sql.DataFrame = [region: string, max(count): bigint]\n",
      "df2b: org.apache.spark.sql.DataFrame = [region: string, brand: string]\n"
     ]
    }
   ],
   "source": [
    "\n",
    "// 2b.Region\n",
    "val brandCount = preprocessedDF.select(\"region\", \"brand\").groupBy(\"region\", \"brand\").count\n",
    "brandCount.cache \n",
    "val brandMax = brandCount.groupBy(\"region\").max(\"count\")\n",
    "val df2b = brandMax.withColumn(\"count\", col(brandMax.columns(1))).join(broadcast(brandCount), Seq(\"region\", \"count\")).filter($\"count\" === $\"max(count)\").groupBy(\"region\").agg(first(\"brand\").as(\"brand\"))"
   ]
  },
  {
   "cell_type": "code",
   "execution_count": 9,
   "metadata": {},
   "outputs": [
    {
     "data": {
      "application/vnd.jupyter.widget-view+json": {
       "model_id": "36286909e0ef4eb8b7f98b74882b49e2",
       "version_major": 2,
       "version_minor": 0
      },
      "text/plain": [
       "VBox()"
      ]
     },
     "metadata": {},
     "output_type": "display_data"
    },
    {
     "data": {
      "application/vnd.jupyter.widget-view+json": {
       "model_id": "",
       "version_major": 2,
       "version_minor": 0
      },
      "text/plain": [
       "FloatProgress(value=0.0, bar_style='info', description='Progress:', layout=Layout(height='25px', width='50%'),…"
      ]
     },
     "metadata": {},
     "output_type": "display_data"
    },
    {
     "name": "stdout",
     "output_type": "stream",
     "text": [
      "res: org.apache.spark.sql.DataFrame = [region: string, brand: string ... 1 more field]\n",
      "res16: Array[org.apache.spark.sql.Row] = Array([auburn,toyota,109.84899295984363], [los angeles,toyota,109.84899295984363], [sierra vista,toyota,109.84899295984363], [santa fe / taos,toyota,109.84899295984363], [boulder,toyota,109.84899295984363], [hawaii,toyota,109.84899295984363], [owensboro,toyota,109.84899295984363], [sacramento,toyota,109.84899295984363], [san diego,toyota,109.84899295984363], [hanford-corcoran,toyota,109.84899295984363], [cape cod / islands,toyota,109.84899295984363], [clovis / portales,toyota,109.84899295984363], [stockton,toyota,109.84899295984363], [logan,jeep,110.58977788127979], [st louis,dodge,302.8080474828895], [tyler / east TX,ford,133.02811289726213], [athens,ford,133.02811289726213], [santa barbara,ford,133.02811289726213], [norfolk / hampton roads,ford..."
     ]
    }
   ],
   "source": [
    "// 3.Join\n",
    "val res = df2a.join(broadcast(df2b), Seq(\"brand\")).select(\"region\", \"brand\", \"opi\")\n",
    "//res.collect"
   ]
  },
  {
   "cell_type": "code",
   "execution_count": 15,
   "metadata": {},
   "outputs": [
    {
     "data": {
      "application/vnd.jupyter.widget-view+json": {
       "model_id": "50740aee3937473994c04510410bf7ca",
       "version_major": 2,
       "version_minor": 0
      },
      "text/plain": [
       "VBox()"
      ]
     },
     "metadata": {},
     "output_type": "display_data"
    },
    {
     "data": {
      "application/vnd.jupyter.widget-view+json": {
       "model_id": "",
       "version_major": 2,
       "version_minor": 0
      },
      "text/plain": [
       "FloatProgress(value=0.0, bar_style='info', description='Progress:', layout=Layout(height='25px', width='50%'),…"
      ]
     },
     "metadata": {},
     "output_type": "display_data"
    }
   ],
   "source": [
    "// Write results\n",
    "res.write.option(\"path\", \"s3://gg6-used-cars-results/res\").saveAsTable(\"Results\")"
   ]
  }
 ],
 "metadata": {
  "kernelspec": {
   "display_name": "Spark",
   "language": "",
   "name": "sparkkernel"
  },
  "language_info": {
   "codemirror_mode": "text/x-scala",
   "mimetype": "text/x-scala",
   "name": "scala",
   "pygments_lexer": "scala"
  }
 },
 "nbformat": 4,
 "nbformat_minor": 4
}
